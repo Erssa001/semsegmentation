{
 "cells": [
  {
   "cell_type": "code",
   "execution_count": 4,
   "metadata": {},
   "outputs": [],
   "source": [
    "import torch\n",
    "import torch.nn as nn\n",
    "import torch.nn.functional as F"
   ]
  },
  {
   "cell_type": "code",
   "execution_count": 7,
   "metadata": {},
   "outputs": [],
   "source": [
    "class ConvNextBlock(nn.Module):\n",
    "    def __init__(self, in_channels, out_channels, kernel_size=3, stride=1, padding=1):\n",
    "        super(ConvNextBlock, self).__init__()\n",
    "        self.dwconv = nn.Conv2d(in_channels, in_channels, kernel_size=kernel_size, stride=stride, padding=padding, groups=in_channels)\n",
    "        self.pwconv1 = nn.Conv2d(in_channels, 4 * out_channels, kernel_size=1)\n",
    "        self.pwconv2 = nn.Conv2d(4 * out_channels, out_channels, kernel_size=1)\n",
    "        self.norm = nn.BatchNorm2d(in_channels)\n",
    "        self.act = nn.ReLU()\n",
    "\n",
    "    def forward(self, x):\n",
    "        residual = x\n",
    "        out = self.dwconv(x)\n",
    "        out = self.norm(out)\n",
    "        out = self.act(out)\n",
    "        out = self.pwconv2d(out)\n",
    "        out += residual\n",
    "        return out\n",
    "\n",
    "class ConvNeXt(nn.Module):\n",
    "    def __init__(self, num_classes=10):\n",
    "        super(ConvNeXt, self).__init__()\n",
    "        self.conv1 = nn.Conv2d(3, 32, kernel_size=3, padding=1)\n",
    "        self.block1 = ConvNextBlock(32, 64)\n",
    "        self.block2 = ConvNextBlock(64, 128)\n",
    "        self.pool = nn.MaxPool2d(2)\n",
    "        self.fc = nn.Linear(128 * 8 * 8, num_classes)\n",
    "\n",
    "    def forward(self, x):\n",
    "        x = F.relu(self.conv1(x))\n",
    "        x = self.block1(x)\n",
    "        x = self.pool(x)\n",
    "        x = self.block2(x)\n",
    "        x = self.pool(x)\n",
    "        x = x.view(-1, 128 * 8 * 8)\n",
    "        x = self.fc(x)\n",
    "        return x\n",
    "\n",
    "model = ConvNeXt(num_classes=10)\n",
    "\n",
    "        "
   ]
  },
  {
   "cell_type": "code",
   "execution_count": null,
   "metadata": {},
   "outputs": [],
   "source": []
  }
 ],
 "metadata": {
  "kernelspec": {
   "display_name": "Python 3",
   "language": "python",
   "name": "python3"
  },
  "language_info": {
   "codemirror_mode": {
    "name": "ipython",
    "version": 3
   },
   "file_extension": ".py",
   "mimetype": "text/x-python",
   "name": "python",
   "nbconvert_exporter": "python",
   "pygments_lexer": "ipython3",
   "version": "3.10.12"
  }
 },
 "nbformat": 4,
 "nbformat_minor": 2
}
