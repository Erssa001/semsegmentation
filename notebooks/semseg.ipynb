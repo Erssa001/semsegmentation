{
 "cells": [
  {
   "cell_type": "code",
   "execution_count": 64,
   "metadata": {},
   "outputs": [],
   "source": [
    "from pycocotools.coco import COCO\n",
    "import matplotlib.pyplot as plt\n",
    "import matplotlib.gridspec as gridspec\n",
    "import json\n",
    "import torch \n",
    "import torch.nn as nn\n",
    "import os\n",
    "import shutil\n",
    "\n",
    "if torch.cuda.is_available():\n",
    "    device = torch.device('cuda')\n",
    "else:\n",
    "    device = torch.device('cpu')\n",
    "\n",
    "# Cristian path\n",
    "base_dir = \"/home/csalitre/school/ecgr-5106/final-project/semantic-segmentation\" \n"
   ]
  },
  {
   "cell_type": "code",
   "execution_count": 65,
   "metadata": {},
   "outputs": [],
   "source": [
    "import os\n",
    "\n",
    "# Define the paths\n",
    "original_train_dir = os.path.join(base_dir, \"src/datasets/original_train_images\")\n",
    "mask_train_dir = os.path.join(base_dir, \"src/datasets/mask_train_images\")\n",
    "original_validate_dir = os.path.join(base_dir, \"src/datasets/original_validate_images\")\n",
    "mask_validate_dir = os.path.join(base_dir, \"src/datasets/mask_validate_images\")\n",
    "original_test_dir = os.path.join(base_dir, \"src/datasets/original_test_images\")\n",
    "mask_test_dir = os.path.join(base_dir, \"src/datasets/mask_test_images\")\n",
    "\n",
    "# Create directories if they don't exist\n",
    "os.makedirs(original_train_dir, exist_ok=True)\n",
    "os.makedirs(mask_train_dir, exist_ok=True)\n",
    "os.makedirs(original_validate_dir, exist_ok=True)\n",
    "os.makedirs(mask_validate_dir, exist_ok=True)\n",
    "os.makedirs(original_test_dir, exist_ok=True)\n",
    "os.makedirs(mask_test_dir, exist_ok=True)\n"
   ]
  },
  {
   "cell_type": "code",
   "execution_count": 66,
   "metadata": {},
   "outputs": [
    {
     "ename": "KeyError",
     "evalue": "'file_name'",
     "output_type": "error",
     "traceback": [
      "\u001b[0;31m---------------------------------------------------------------------------\u001b[0m",
      "\u001b[0;31mKeyError\u001b[0m                                  Traceback (most recent call last)",
      "Cell \u001b[0;32mIn[66], line 61\u001b[0m\n\u001b[1;32m     58\u001b[0m mask_test_dir \u001b[38;5;241m=\u001b[39m base_dir \u001b[38;5;241m+\u001b[39m \u001b[38;5;124m\"\u001b[39m\u001b[38;5;124m/src/datasets/mask_test_images\u001b[39m\u001b[38;5;124m\"\u001b[39m\n\u001b[1;32m     60\u001b[0m \u001b[38;5;66;03m# Perform separation for train, validate, and test sets\u001b[39;00m\n\u001b[0;32m---> 61\u001b[0m \u001b[43mseparate_images\u001b[49m\u001b[43m(\u001b[49m\u001b[43mtrain_image_folder\u001b[49m\u001b[43m,\u001b[49m\u001b[43m \u001b[49m\u001b[43moriginal_train_dir\u001b[49m\u001b[43m,\u001b[49m\u001b[43m \u001b[49m\u001b[43mmask_train_dir\u001b[49m\u001b[43m)\u001b[49m\n\u001b[1;32m     62\u001b[0m separate_images(validate_image_folder, original_validate_dir, mask_validate_dir)\n\u001b[1;32m     63\u001b[0m separate_images(test_image_folder, original_test_dir, mask_test_dir)\n",
      "Cell \u001b[0;32mIn[66], line 42\u001b[0m, in \u001b[0;36mseparate_images\u001b[0;34m(image_folder, original_images_dir, mask_images_dir)\u001b[0m\n\u001b[1;32m     39\u001b[0m mask_category_ids \u001b[38;5;241m=\u001b[39m [\u001b[38;5;241m1\u001b[39m, \u001b[38;5;241m2\u001b[39m]\n\u001b[1;32m     41\u001b[0m \u001b[38;5;66;03m# Move images to their respective directories\u001b[39;00m\n\u001b[0;32m---> 42\u001b[0m \u001b[43mmove_images\u001b[49m\u001b[43m(\u001b[49m\u001b[43mjson_data\u001b[49m\u001b[43m[\u001b[49m\u001b[38;5;124;43m\"\u001b[39;49m\u001b[38;5;124;43mannotations\u001b[39;49m\u001b[38;5;124;43m\"\u001b[39;49m\u001b[43m]\u001b[49m\u001b[43m,\u001b[49m\u001b[43m \u001b[49m\u001b[43mmask_category_ids\u001b[49m\u001b[43m)\u001b[49m\n\u001b[1;32m     44\u001b[0m \u001b[38;5;28mprint\u001b[39m(\u001b[38;5;124mf\u001b[39m\u001b[38;5;124m\"\u001b[39m\u001b[38;5;124mSeparation for \u001b[39m\u001b[38;5;132;01m{\u001b[39;00mimage_folder\u001b[38;5;132;01m}\u001b[39;00m\u001b[38;5;124m complete.\u001b[39m\u001b[38;5;124m\"\u001b[39m)\n",
      "Cell \u001b[0;32mIn[66], line 16\u001b[0m, in \u001b[0;36mseparate_images.<locals>.move_images\u001b[0;34m(images_info, mask_category_ids)\u001b[0m\n\u001b[1;32m     14\u001b[0m image_id \u001b[38;5;241m=\u001b[39m image_info[\u001b[38;5;124m\"\u001b[39m\u001b[38;5;124mid\u001b[39m\u001b[38;5;124m\"\u001b[39m]\n\u001b[1;32m     15\u001b[0m category_id \u001b[38;5;241m=\u001b[39m image_info[\u001b[38;5;124m\"\u001b[39m\u001b[38;5;124mcategory_id\u001b[39m\u001b[38;5;124m\"\u001b[39m]\n\u001b[0;32m---> 16\u001b[0m filename \u001b[38;5;241m=\u001b[39m \u001b[43mimage_info\u001b[49m\u001b[43m[\u001b[49m\u001b[38;5;124;43m\"\u001b[39;49m\u001b[38;5;124;43mfile_name\u001b[39;49m\u001b[38;5;124;43m\"\u001b[39;49m\u001b[43m]\u001b[49m\n\u001b[1;32m     18\u001b[0m \u001b[38;5;66;03m# Check if the image is a mask\u001b[39;00m\n\u001b[1;32m     19\u001b[0m \u001b[38;5;28;01mif\u001b[39;00m category_id \u001b[38;5;129;01min\u001b[39;00m mask_category_ids:\n\u001b[1;32m     20\u001b[0m     \u001b[38;5;66;03m# Move the mask image to the mask images directory\u001b[39;00m\n",
      "\u001b[0;31mKeyError\u001b[0m: 'file_name'"
     ]
    }
   ],
   "source": [
    "import json\n",
    "import os\n",
    "import shutil\n",
    "\n",
    "def separate_images(image_folder, original_images_dir, mask_images_dir):\n",
    "    # Function to load JSON file\n",
    "    def load_json(json_file):\n",
    "        with open(json_file, \"r\") as f:\n",
    "            return json.load(f)\n",
    "\n",
    "    # Function to move images to their respective directories\n",
    "    def move_images(images_info, mask_category_ids):\n",
    "        for image_info in images_info:\n",
    "            image_id = image_info[\"id\"]\n",
    "            category_id = image_info[\"category_id\"]\n",
    "            # Retrieve the \"file_name\" from the \"images\" section using \"id\"\n",
    "            filename = next(img[\"file_name\"] for img in json_data[\"images\"] if img[\"id\"] == image_id)\n",
    "            \n",
    "            # Check if the image is a mask\n",
    "            if category_id in mask_category_ids:\n",
    "                # Move the mask image to the mask images directory\n",
    "                shutil.move(os.path.join(image_folder, filename), os.path.join(mask_images_dir, filename))\n",
    "            else:\n",
    "                # Move the original image to the original images directory\n",
    "                shutil.move(os.path.join(image_folder, filename), os.path.join(original_images_dir, filename))\n",
    "\n",
    "    # Find the JSON file in the image folder\n",
    "    json_files = [f for f in os.listdir(image_folder) if f.endswith('.json')]\n",
    "\n",
    "    if len(json_files) == 0:\n",
    "        print(\"No JSON file found in the image folder.\")\n",
    "        return\n",
    "    elif len(json_files) > 1:\n",
    "        print(\"Multiple JSON files found in the image folder. Using the first one.\")\n",
    "\n",
    "    # Load the JSON file\n",
    "    json_data = load_json(os.path.join(image_folder, json_files[0]))\n",
    "\n",
    "    # Get the category IDs corresponding to masks (category IDs 1 and 2 in this case)\n",
    "    mask_category_ids = [1, 2]\n",
    "\n",
    "    # Move images to their respective directories\n",
    "    move_images(json_data[\"annotations\"], mask_category_ids)\n",
    "\n",
    "    print(f\"Separation for {image_folder} complete.\")\n",
    "\n",
    "\n",
    "\n",
    "\n",
    "# Define paths for train, validate, and test sets\n",
    "train_image_folder = base_dir + \"/data/train\"\n",
    "validate_image_folder = base_dir + \"/data/valid\"\n",
    "test_image_folder = base_dir + '/data/test'\n",
    "\n",
    "# Define destination directories for original and mask images\n",
    "original_train_dir = base_dir + \"/src/datasets/original_train_images\"\n",
    "mask_train_dir = base_dir + \"/src/datasets/mask_train_images\"\n",
    "original_validate_dir = base_dir + \"/src/datasets/original_validate_images\"\n",
    "mask_validate_dir = base_dir + \"/src/datasets/mask_validate_images\"\n",
    "original_test_dir = base_dir + \"/src/datasets/original_test_images\"\n",
    "mask_test_dir = base_dir + \"/src/datasets/mask_test_images\"\n",
    "\n",
    "# Perform separation for train, validate, and test sets\n",
    "separate_images(train_image_folder, original_train_dir, mask_train_dir)\n",
    "separate_images(validate_image_folder, original_validate_dir, mask_validate_dir)\n",
    "separate_images(test_image_folder, original_test_dir, mask_test_dir)\n"
   ]
  },
  {
   "cell_type": "code",
   "execution_count": null,
   "metadata": {},
   "outputs": [],
   "source": []
  },
  {
   "cell_type": "code",
   "execution_count": null,
   "metadata": {},
   "outputs": [],
   "source": []
  },
  {
   "cell_type": "code",
   "execution_count": null,
   "metadata": {},
   "outputs": [],
   "source": []
  },
  {
   "cell_type": "code",
   "execution_count": null,
   "metadata": {},
   "outputs": [],
   "source": []
  },
  {
   "cell_type": "code",
   "execution_count": null,
   "metadata": {},
   "outputs": [],
   "source": []
  }
 ],
 "metadata": {
  "kernelspec": {
   "display_name": "Python 3",
   "language": "python",
   "name": "python3"
  },
  "language_info": {
   "codemirror_mode": {
    "name": "ipython",
    "version": 3
   },
   "file_extension": ".py",
   "mimetype": "text/x-python",
   "name": "python",
   "nbconvert_exporter": "python",
   "pygments_lexer": "ipython3",
   "version": "3.10.12"
  }
 },
 "nbformat": 4,
 "nbformat_minor": 2
}
