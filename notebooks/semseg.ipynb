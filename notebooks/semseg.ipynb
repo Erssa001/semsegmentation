{
 "cells": [
  {
   "cell_type": "code",
   "execution_count": 61,
   "metadata": {},
   "outputs": [],
   "source": [
    "from pycocotools.coco import COCO\n",
    "import matplotlib.pyplot as plt\n",
    "import matplotlib.gridspec as gridspec\n",
    "import json\n",
    "import torch \n",
    "import torch.nn as nn\n",
    "import os\n",
    "import shutil\n",
    "\n",
    "if torch.cuda.is_available():\n",
    "    device = torch.device('cuda')\n",
    "else:\n",
    "    device = torch.device('cpu')\n"
   ]
  },
  {
   "cell_type": "code",
   "execution_count": 62,
   "metadata": {},
   "outputs": [],
   "source": [
    "import os\n",
    "\n",
    "# Define the paths\n",
    "base_dir = \"/home/csalitre/school/ecgr-5106/final-project/semantic-segmentation\"\n",
    "original_train_dir = os.path.join(base_dir, \"src/datasets/original_train_images\")\n",
    "mask_train_dir = os.path.join(base_dir, \"src/datasets/mask_train_images\")\n",
    "original_validate_dir = os.path.join(base_dir, \"src/datasets/original_validate_images\")\n",
    "mask_validate_dir = os.path.join(base_dir, \"src/datasets/mask_validate_images\")\n",
    "original_test_dir = os.path.join(base_dir, \"src/datasets/original_test_images\")\n",
    "mask_test_dir = os.path.join(base_dir, \"src/datasets/mask_test_images\")\n",
    "\n",
    "# Create directories if they don't exist\n",
    "os.makedirs(original_train_dir, exist_ok=True)\n",
    "os.makedirs(mask_train_dir, exist_ok=True)\n",
    "os.makedirs(original_validate_dir, exist_ok=True)\n",
    "os.makedirs(mask_validate_dir, exist_ok=True)\n",
    "os.makedirs(original_test_dir, exist_ok=True)\n",
    "os.makedirs(mask_test_dir, exist_ok=True)\n"
   ]
  },
  {
   "cell_type": "code",
   "execution_count": 60,
   "metadata": {},
   "outputs": [
    {
     "name": "stdout",
     "output_type": "stream",
     "text": [
      "Separation for /home/csalitre/school/ecgr-5106/final-project/semantic-segmentation/data/train complete.\n",
      "Separation for /home/csalitre/school/ecgr-5106/final-project/semantic-segmentation/data/valid complete.\n",
      "Separation for /home/csalitre/school/ecgr-5106/final-project/semantic-segmentation/data/test complete.\n"
     ]
    }
   ],
   "source": [
    "import json\n",
    "import os\n",
    "import shutil\n",
    "\n",
    "def separate_images(image_folder, original_images_dir, mask_images_dir):\n",
    "    # Function to load JSON file\n",
    "    def load_json(json_file):\n",
    "        with open(json_file, \"r\") as f:\n",
    "            return json.load(f)\n",
    "\n",
    "    # Function to move images to their respective directories\n",
    "    def move_images(images_info, mask_category_name):\n",
    "        for image_info in images_info:\n",
    "            filename = image_info[\"file_name\"]\n",
    "            \n",
    "            # Check if the image filename contains the mask category name\n",
    "            if mask_category_name in filename:\n",
    "                # Move the mask image to the mask images directory\n",
    "                shutil.move(os.path.join(image_folder, filename), os.path.join(mask_images_dir, filename))\n",
    "            else:\n",
    "                # Move the original image to the original images directory\n",
    "                shutil.move(os.path.join(image_folder, filename), os.path.join(original_images_dir, filename))\n",
    "\n",
    "    # Find the JSON file in the image folder\n",
    "    json_files = [f for f in os.listdir(image_folder) if f.endswith('.json')]\n",
    "\n",
    "    if len(json_files) == 0:\n",
    "        print(\"No JSON file found in the image folder.\")\n",
    "        return\n",
    "    elif len(json_files) > 1:\n",
    "        print(\"Multiple JSON files found in the image folder. Using the first one.\")\n",
    "\n",
    "    # Load the JSON file\n",
    "    json_data = load_json(os.path.join(image_folder, json_files[0]))\n",
    "\n",
    "    # Get the category name corresponding to masks\n",
    "    mask_category_name = \"Tumor\"  # Modify this according to your JSON file\n",
    "\n",
    "    # Move images to their respective directories\n",
    "    move_images(json_data[\"images\"], mask_category_name)\n",
    "\n",
    "    print(f\"Separation for {image_folder} complete.\")\n",
    "\n",
    "# Define paths for train, validate, and test sets\n",
    "train_image_folder = base_dir + \"/data/train\"\n",
    "validate_image_folder = base_dir + \"/data/valid\"\n",
    "test_image_folder = base_dir + '/data/test'\n",
    "\n",
    "# Define destination directories for original and mask images\n",
    "original_train_dir = base_dir + \"/src/datasets/original_train_images\"\n",
    "mask_train_dir = base_dir + \"/src/datasets/mask_train_images\"\n",
    "original_validate_dir = base_dir + \"/src/datasets/original_validate_images\"\n",
    "mask_validate_dir = base_dir + \"/src/datasets/mask_validate_images\"\n",
    "original_test_dir = base_dir + \"/src/datasets/original_test_images\"\n",
    "mask_test_dir = base_dir + \"/src/datasets/mask_test_images\"\n",
    "\n",
    "# Perform separation for train, validate, and test sets\n",
    "separate_images(train_image_folder, original_train_dir, mask_train_dir)\n",
    "separate_images(validate_image_folder, original_validate_dir, mask_validate_dir)\n",
    "separate_images(test_image_folder, original_test_dir, mask_test_dir)\n"
   ]
  },
  {
   "cell_type": "code",
   "execution_count": null,
   "metadata": {},
   "outputs": [],
   "source": []
  },
  {
   "cell_type": "code",
   "execution_count": null,
   "metadata": {},
   "outputs": [],
   "source": []
  },
  {
   "cell_type": "code",
   "execution_count": null,
   "metadata": {},
   "outputs": [],
   "source": []
  },
  {
   "cell_type": "code",
   "execution_count": null,
   "metadata": {},
   "outputs": [],
   "source": []
  },
  {
   "cell_type": "code",
   "execution_count": null,
   "metadata": {},
   "outputs": [],
   "source": []
  }
 ],
 "metadata": {
  "kernelspec": {
   "display_name": "Python 3",
   "language": "python",
   "name": "python3"
  },
  "language_info": {
   "codemirror_mode": {
    "name": "ipython",
    "version": 3
   },
   "file_extension": ".py",
   "mimetype": "text/x-python",
   "name": "python",
   "nbconvert_exporter": "python",
   "pygments_lexer": "ipython3",
   "version": "3.10.12"
  }
 },
 "nbformat": 4,
 "nbformat_minor": 2
}
